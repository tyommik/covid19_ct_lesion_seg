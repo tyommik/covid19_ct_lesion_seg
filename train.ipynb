{
 "cells": [
  {
   "cell_type": "code",
   "execution_count": 22,
   "metadata": {},
   "outputs": [],
   "source": [
    "import pathlib\n",
    "import gzip\n",
    "\n",
    "import imageio\n",
    "import nibabel\n",
    "import tqdm\n",
    "import torchvision\n",
    "import torch.nn.functional as F\n",
    "from torch.utils.data import DataLoader\n",
    "import segmentation_models_pytorch as smp\n",
    "from sklearn.model_selection import train_test_split\n",
    "\n",
    "import fastai\n",
    "from fastai.vision.all import *"
   ]
  },
  {
   "cell_type": "code",
   "execution_count": 23,
   "metadata": {},
   "outputs": [],
   "source": [
    "plt.rcParams['figure.figsize'] = [12, 8]\n",
    "plt.rcParams['figure.dpi'] = 100 "
   ]
  },
  {
   "cell_type": "markdown",
   "metadata": {},
   "source": [
    "## Options"
   ]
  },
  {
   "cell_type": "code",
   "execution_count": 24,
   "metadata": {},
   "outputs": [],
   "source": [
    "torch.backends.cudnn.enabled = True\n",
    "torch.backends.cudnn.benchmark = True"
   ]
  },
  {
   "cell_type": "code",
   "execution_count": 25,
   "metadata": {},
   "outputs": [],
   "source": [
    "seed = 42\n",
    "\n",
    "device = torch.device('cuda')\n",
    "os.environ[\"CUDA_VISIBLE_DEVICES\"] = \"0\""
   ]
  },
  {
   "cell_type": "code",
   "execution_count": 26,
   "metadata": {},
   "outputs": [],
   "source": [
    "import random\n",
    "\n",
    "def seed_torch(seed):\n",
    "    random.seed(seed)\n",
    "    os.environ['PYTHONHASHSEED'] = str(seed)\n",
    "    np.random.seed(seed)\n",
    "    torch.manual_seed(seed)\n",
    "    torch.cuda.manual_seed(seed)\n",
    "    torch.backends.cudnn.deterministic = True\n",
    "\n",
    "seed_torch(seed=seed)"
   ]
  },
  {
   "cell_type": "code",
   "execution_count": 27,
   "metadata": {},
   "outputs": [],
   "source": [
    "# Model parameters\n",
    "input_size = 1\n",
    "output_size = 4\n",
    "\n",
    "# Training parameters\n",
    "epochs = 5\n",
    "batch_size = 8\n",
    "learning_rate = 1e-3"
   ]
  },
  {
   "cell_type": "markdown",
   "metadata": {},
   "source": [
    "## Paths"
   ]
  },
  {
   "cell_type": "code",
   "execution_count": 28,
   "metadata": {},
   "outputs": [],
   "source": [
    "# Data root\n",
    "data_folder = pathlib.Path(\"./data\")\n",
    "\n",
    "# Input data\n",
    "dataset_folder = data_folder / \"dataset\"\n",
    "mask_folder = data_folder / \"mask\"\n",
    "\n",
    "# Preprocessed data\n",
    "unzipped_folder = data_folder / \"unzipped\"\n",
    "renamed_folder = data_folder / \"renamed\"\n",
    "\n",
    "# Transformed\n",
    "images_folder = data_folder / \"images\"\n",
    "masks_folder = data_folder / \"masks\"\n",
    "\n",
    "# Saved models\n",
    "models_folder = pathlib.Path(\"models\")\n"
   ]
  },
  {
   "cell_type": "markdown",
   "metadata": {},
   "source": [
    "## Dataset"
   ]
  },
  {
   "cell_type": "markdown",
   "metadata": {},
   "source": [
    "Data dir structure\n",
    "\n",
    "<pre>\n",
    "├── dataset\n",
    "│   ├── pat1.nii.gz\n",
    "│   ├── pat2.nii.gz\n",
    "|   |── ...\n",
    "├── mask\n",
    "│   ├── pat1_mask.nii\n",
    "│   ├── pat2_mask.nii\n",
    "|   |── ...\n",
    "\n",
    "</pre>"
   ]
  },
  {
   "cell_type": "code",
   "execution_count": 29,
   "metadata": {},
   "outputs": [],
   "source": [
    "# Create folders for preprocessed data\n",
    "for folder in [unzipped_folder, renamed_folder, images_folder, masks_folder]:\n",
    "    if not folder.exists():\n",
    "        folder.mkdir()"
   ]
  },
  {
   "cell_type": "code",
   "execution_count": 30,
   "metadata": {},
   "outputs": [
    {
     "name": "stderr",
     "output_type": "stream",
     "text": [
      "0it [00:00, ?it/s]\n"
     ]
    }
   ],
   "source": [
    "# Unzip NIfTI files\n",
    "for file in tqdm.tqdm(dataset_folder.glob(\"*.gz\")):\n",
    "    with gzip.open(file, 'rb') as inf:\n",
    "        with open(f'{unzipped_folder}/{file.stem}', \"wb\") as ouf:\n",
    "            shutil.copyfileobj(inf, ouf)"
   ]
  },
  {
   "cell_type": "code",
   "execution_count": 10,
   "metadata": {},
   "outputs": [],
   "source": [
    "# Mask filenames must match image filenames\n",
    "for file in tqdm.tqdm(mask_folder.glob(\"*.nii\")):\n",
    "    shutil.copyfile(file, renamed_folder / file.stem.replace(\"_mask\", \".nii\"))"
   ]
  },
  {
   "cell_type": "code",
   "execution_count": null,
   "metadata": {},
   "outputs": [],
   "source": [
    "# Find matches between images and masks by filename\n",
    "matches = []\n",
    "for file in unzipped_folder.glob(\"*.nii\"):\n",
    "    if (renamed_folder / file.name).exists():\n",
    "        matches.append(os.path.basename(file)) "
   ]
  },
  {
   "cell_type": "code",
   "execution_count": null,
   "metadata": {},
   "outputs": [],
   "source": [
    "# Convert NIfTI to png before processing\n",
    "pbar = tqdm.tqdm(matches)\n",
    "for match in pbar:\n",
    "    for folder in [unzipped_folder, renamed_folder]:\n",
    "        file = folder / match\n",
    "        pbar.set_description(\"Processing %s\" % match)\n",
    "\n",
    "        img = nibabel.load(file)\n",
    "        image_array = np.asanyarray(img.dataobj)\n",
    "        width, height, slices = image_array.shape\n",
    "\n",
    "        # Save each slice as separate file\n",
    "        for current in range(0, slices):\n",
    "            image_name = file.stem + \"_z\" + \"{:0>3}\".format(str(current+1))+ \".png\"\n",
    "            image_path = masks_folder\n",
    "            data = image_array[:, :, current]\n",
    "\n",
    "            if folder == unzipped_folder:\n",
    "                data[data > 600] = 600\n",
    "                data = np.divide((data + 1024), 1624) * 255.0\n",
    "                image_path = images_folder\n",
    "                \n",
    "            # Save final result to corresponding folder\n",
    "            imageio.imwrite(\"{}/{}\".format(image_path, image_name), np.uint8(data))"
   ]
  },
  {
   "cell_type": "markdown",
   "metadata": {},
   "source": [
    "## Model"
   ]
  },
  {
   "cell_type": "code",
   "execution_count": 31,
   "metadata": {},
   "outputs": [],
   "source": [
    "unet = resnet18"
   ]
  },
  {
   "cell_type": "markdown",
   "metadata": {},
   "source": [
    "## Metrics"
   ]
  },
  {
   "cell_type": "code",
   "execution_count": 32,
   "metadata": {},
   "outputs": [],
   "source": [
    "def IoU(preds: Tensor, targs: Tensor, eps: float = 1e-8):\n",
    "    \"\"\"Computes the Jaccard loss, a.k.a the IoU loss.\n",
    "    Notes: [Batch size,Num classes,Height,Width]\n",
    "    Args:\n",
    "        targs: a tensor of shape [B, H, W] or [B, 1, H, W].\n",
    "        preds: a tensor of shape [B, C, H, W]. Corresponds to\n",
    "            the raw output or logits of the model. (prediction)\n",
    "        eps: added to the denominator for numerical stability.\n",
    "    Returns:\n",
    "        iou: the average class intersection over union value\n",
    "             for multi-class image segmentation\n",
    "    \"\"\"\n",
    "    num_classes = preds.shape[1]\n",
    "\n",
    "    # Single class segmentation?\n",
    "    if num_classes == 1:\n",
    "        true_1_hot = torch.eye(num_classes + 1)[targs.squeeze(1)]\n",
    "        true_1_hot = true_1_hot.permute(0, 3, 1, 2).float()\n",
    "        true_1_hot_f = true_1_hot[:, 0:1, :, :]\n",
    "        true_1_hot_s = true_1_hot[:, 1:2, :, :]\n",
    "        true_1_hot = torch.cat([true_1_hot_s, true_1_hot_f], dim=1)\n",
    "        pos_prob = torch.sigmoid(preds)\n",
    "        neg_prob = 1 - pos_prob\n",
    "        probas = torch.cat([pos_prob, neg_prob], dim=1)\n",
    "\n",
    "    # Multi-class segmentation\n",
    "    else:\n",
    "        # Convert target to one-hot encoding\n",
    "        # true_1_hot = torch.eye(num_classes)[torch.squeeze(targs,1)]\n",
    "        true_1_hot = torch.eye(num_classes)[targs.squeeze(1)]\n",
    "\n",
    "        # Permute [B,H,W,C] to [B,C,H,W]\n",
    "        true_1_hot = true_1_hot.permute(0, 3, 1, 2).float()\n",
    "\n",
    "        # Take softmax along class dimension; all class probs add to 1 (per pixel)\n",
    "        probas = F.softmax(preds, dim=1)\n",
    "\n",
    "    true_1_hot = true_1_hot.type(preds.type())\n",
    "\n",
    "    # Sum probabilities by class and across batch images\n",
    "    dims = (0,) + tuple(range(2, targs.ndimension()))\n",
    "    intersection = torch.sum(probas * true_1_hot, dims)  # [class0,class1,class2,...]\n",
    "    cardinality = torch.sum(probas + true_1_hot, dims)  # [class0,class1,class2,...]\n",
    "    union = cardinality - intersection\n",
    "    iou = (intersection / (union + eps)).mean()  # find mean of class IoU values\n",
    "    return iou"
   ]
  },
  {
   "cell_type": "code",
   "execution_count": 33,
   "metadata": {},
   "outputs": [],
   "source": [
    "class Dice(Metric):\n",
    "    \"Dice coefficient metric for binary target in segmentation\"\n",
    "    def __init__(self, axis=1): self.axis = axis\n",
    "    def reset(self): self.inter,self.union = 0,0\n",
    "    def accumulate(self, learn):\n",
    "        pred,targ = flatten_check(learn.pred.argmax(dim=self.axis), learn.y)\n",
    "        pred, targ = TensorBase(pred), TensorBase(targ)\n",
    "        self.inter += (pred*targ).float().sum().item()\n",
    "        self.union += (pred+targ).float().sum().item()\n",
    "\n",
    "    @property\n",
    "    def value(self): return 2. * self.inter/self.union if self.union > 0 else None\n",
    "\n",
    "class DiceMulti(Metric):\n",
    "    \"Averaged Dice metric (Macro F1) for multiclass target in segmentation\"\n",
    "    def __init__(self, axis=1): self.axis = axis\n",
    "    def reset(self): self.inter,self.union = {},{}\n",
    "    def accumulate(self, learn):\n",
    "        pred,targ = flatten_check(learn.pred.argmax(dim=self.axis), learn.y)\n",
    "        for c in range(learn.pred.shape[self.axis]):\n",
    "            p = torch.where(pred == c, 1, 0)\n",
    "            t = torch.where(targ == c, 1, 0)\n",
    "            p, t = TensorBase(p), TensorBase(t)\n",
    "            c_inter = (p*t).float().sum().item()\n",
    "            c_union = (p+t).float().sum().item()\n",
    "            if c in self.inter:\n",
    "                self.inter[c] += c_inter\n",
    "                self.union[c] += c_union\n",
    "            else:\n",
    "                self.inter[c] = c_inter\n",
    "                self.union[c] = c_union\n",
    "    @property\n",
    "    def value(self):\n",
    "        binary_dice_scores = np.array([])\n",
    "        for c in self.inter:\n",
    "            binary_dice_scores = np.append(binary_dice_scores, 2.*self.inter[c]/self.union[c] if self.union[c] > 0 else np.nan)\n",
    "        return np.nanmean(binary_dice_scores)"
   ]
  },
  {
   "cell_type": "code",
   "execution_count": 34,
   "metadata": {},
   "outputs": [],
   "source": [
    "class Dice_background(Metric):\n",
    "    \"Dice coefficient metric for binary target in segmentation\"\n",
    "    def __init__(self, axis=1): \n",
    "        self.axis = axis\n",
    "        self.c = 0\n",
    "    def reset(self): self.inter,self.union = 0,0\n",
    "    def accumulate(self, learn):\n",
    "        pred,targ = flatten_check(learn.pred.argmax(dim=self.axis), learn.y)\n",
    "        pred = torch.where(pred == self.c, 1, 0)\n",
    "        targ = torch.where(targ == self.c, 1, 0)\n",
    "        \n",
    "        pred, targ = TensorBase(pred), TensorBase(targ)\n",
    "        self.inter += (pred*targ).float().sum().item()\n",
    "        self.union += (pred+targ).float().sum().item()\n",
    "\n",
    "    @property\n",
    "    def value(self): return 2. * self.inter/self.union if self.union > 0 else None\n",
    "    \n",
    "\n",
    "class Dice_GGO(Metric):\n",
    "    \"Dice coefficient metric for binary target in segmentation\"\n",
    "    def __init__(self, axis=1): \n",
    "        self.axis = axis\n",
    "        self.c = 1\n",
    "    def reset(self): self.inter,self.union = 0,0\n",
    "    def accumulate(self, learn):\n",
    "        pred,targ = flatten_check(learn.pred.argmax(dim=self.axis), learn.y)\n",
    "        pred = torch.where(pred == self.c, 1, 0)\n",
    "        targ = torch.where(targ == self.c, 1, 0)\n",
    "        \n",
    "        pred, targ = TensorBase(pred), TensorBase(targ)\n",
    "        self.inter += (pred*targ).float().sum().item()\n",
    "        self.union += (pred+targ).float().sum().item()\n",
    "\n",
    "    @property\n",
    "    def value(self): return 2. * self.inter/self.union if self.union > 0 else None\n",
    "    \n",
    "\n",
    "class Dice_Consolidation(Metric):\n",
    "    \"Dice coefficient metric for binary target in segmentation\"\n",
    "    def __init__(self, axis=1): \n",
    "        self.axis = axis\n",
    "        self.c = 2\n",
    "    def reset(self): self.inter,self.union = 0,0\n",
    "    def accumulate(self, learn):\n",
    "        pred,targ = flatten_check(learn.pred.argmax(dim=self.axis), learn.y)\n",
    "        pred = torch.where(pred == self.c, 1, 0)\n",
    "        targ = torch.where(targ == self.c, 1, 0)\n",
    "        \n",
    "        pred, targ = TensorBase(pred), TensorBase(targ)\n",
    "        self.inter += (pred*targ).float().sum().item()\n",
    "        self.union += (pred+targ).float().sum().item()\n",
    "\n",
    "    @property\n",
    "    def value(self): return 2. * self.inter/self.union if self.union > 0 else None\n",
    "    \n",
    "    \n",
    "class Dice_Pleural_Effusion(Metric):\n",
    "    \"Dice coefficient metric for binary target in segmentation\"\n",
    "    def __init__(self, axis=1): \n",
    "        self.axis = axis\n",
    "        self.c = 3\n",
    "    def reset(self): self.inter,self.union = 0,0\n",
    "    def accumulate(self, learn):\n",
    "        pred,targ = flatten_check(learn.pred.argmax(dim=self.axis), learn.y)\n",
    "        pred = torch.where(pred == self.c, 1, 0)\n",
    "        targ = torch.where(targ == self.c, 1, 0)\n",
    "        \n",
    "        pred, targ = TensorBase(pred), TensorBase(targ)\n",
    "        self.inter += (pred*targ).float().sum().item()\n",
    "        self.union += (pred+targ).float().sum().item()\n",
    "\n",
    "    @property\n",
    "    def value(self): return 2. * self.inter/self.union if self.union > 0 else None"
   ]
  },
  {
   "cell_type": "code",
   "execution_count": 35,
   "metadata": {},
   "outputs": [],
   "source": [
    "class JaccardCoeff(Dice):\n",
    "    \"Implementation of the Jaccard coefficient that is lighter in RAM\"\n",
    "    @property\n",
    "    def value(self): return self.inter/(self.union-self.inter) if self.union > 0 else None\n",
    "\n",
    "class JaccardCoeffMulti(DiceMulti):\n",
    "    \"Averaged Jaccard coefficient for multiclass target in segmentation\"\n",
    "    @property\n",
    "    def value(self):\n",
    "        binary_jaccard_scores = np.array([])\n",
    "        for c in self.inter:\n",
    "            binary_jaccard_scores = np.append(binary_jaccard_scores, self.inter[c]/(self.union[c] - self.inter[c]) if self.union[c] > 0 else np.nan)\n",
    "        return np.nanmean(binary_jaccard_scores)"
   ]
  },
  {
   "cell_type": "markdown",
   "metadata": {},
   "source": [
    "# DataLoaders"
   ]
  },
  {
   "cell_type": "code",
   "execution_count": 36,
   "metadata": {},
   "outputs": [],
   "source": [
    "def get_my_x(fname:Path):\n",
    "    mask_name = str(fname)\n",
    "    mask = Image.open(mask_name)\n",
    "    mask = np.array(mask)\n",
    "    return mask\n",
    "\n",
    "def get_my_y(fname:Path):\n",
    "    mask_name = str(fname).replace('images', 'masks')\n",
    "    mask = Image.open(mask_name)\n",
    "    mask = np.array(mask)\n",
    "    return mask\n",
    "\n",
    "tfms = [IntToFloatTensor(div_mask=1)] #, Normalize.from_stats(*mnist_stats)]\n",
    "db = DataBlock(blocks=(ImageBlock(), MaskBlock(codes=np.loadtxt('codes.txt', dtype=str))),\n",
    "               get_x=get_my_x,\n",
    "               get_y=get_my_y,\n",
    "               batch_tfms=tfms,\n",
    "               get_items=get_image_files,\n",
    "               splitter=RandomSplitter(valid_pct=0.3)\n",
    "\n",
    "               )\n",
    "ds = db.datasets(source=data_folder / 'images')\n",
    "dls = db.dataloaders(data_folder/'images',bs = batch_size)"
   ]
  },
  {
   "cell_type": "markdown",
   "metadata": {},
   "source": [
    "# Train"
   ]
  },
  {
   "cell_type": "code",
   "execution_count": 37,
   "metadata": {},
   "outputs": [
    {
     "data": {
      "text/html": [
       "<table border=\"1\" class=\"dataframe\">\n",
       "  <thead>\n",
       "    <tr style=\"text-align: left;\">\n",
       "      <th>epoch</th>\n",
       "      <th>train_loss</th>\n",
       "      <th>valid_loss</th>\n",
       "      <th>IoU</th>\n",
       "      <th>dice_multi</th>\n",
       "      <th>jaccard_coeff_multi</th>\n",
       "      <th>dice_background</th>\n",
       "      <th>dice_ggo</th>\n",
       "      <th>dice__consolidation</th>\n",
       "      <th>dice__pleural__effusion</th>\n",
       "      <th>time</th>\n",
       "    </tr>\n",
       "  </thead>\n",
       "  <tbody>\n",
       "    <tr>\n",
       "      <td>0</td>\n",
       "      <td>0.018571</td>\n",
       "      <td>0.018267</td>\n",
       "      <td>0.293928</td>\n",
       "      <td>0.706665</td>\n",
       "      <td>0.585275</td>\n",
       "      <td>0.997273</td>\n",
       "      <td>0.644140</td>\n",
       "      <td>0.450477</td>\n",
       "      <td>0.734771</td>\n",
       "      <td>18:35</td>\n",
       "    </tr>\n",
       "    <tr>\n",
       "      <td>1</td>\n",
       "      <td>0.011911</td>\n",
       "      <td>0.012893</td>\n",
       "      <td>0.312087</td>\n",
       "      <td>0.754600</td>\n",
       "      <td>0.638876</td>\n",
       "      <td>0.997857</td>\n",
       "      <td>0.720333</td>\n",
       "      <td>0.507007</td>\n",
       "      <td>0.793205</td>\n",
       "      <td>18:42</td>\n",
       "    </tr>\n",
       "    <tr>\n",
       "      <td>2</td>\n",
       "      <td>0.009614</td>\n",
       "      <td>0.011097</td>\n",
       "      <td>0.316066</td>\n",
       "      <td>0.782919</td>\n",
       "      <td>0.670998</td>\n",
       "      <td>0.998049</td>\n",
       "      <td>0.715525</td>\n",
       "      <td>0.577857</td>\n",
       "      <td>0.840244</td>\n",
       "      <td>18:43</td>\n",
       "    </tr>\n",
       "    <tr>\n",
       "      <td>3</td>\n",
       "      <td>0.007885</td>\n",
       "      <td>0.009290</td>\n",
       "      <td>0.330426</td>\n",
       "      <td>0.829186</td>\n",
       "      <td>0.728387</td>\n",
       "      <td>0.998335</td>\n",
       "      <td>0.770280</td>\n",
       "      <td>0.661642</td>\n",
       "      <td>0.886486</td>\n",
       "      <td>18:52</td>\n",
       "    </tr>\n",
       "    <tr>\n",
       "      <td>4</td>\n",
       "      <td>0.008100</td>\n",
       "      <td>0.009133</td>\n",
       "      <td>0.332373</td>\n",
       "      <td>0.832536</td>\n",
       "      <td>0.732755</td>\n",
       "      <td>0.998373</td>\n",
       "      <td>0.775656</td>\n",
       "      <td>0.666997</td>\n",
       "      <td>0.889116</td>\n",
       "      <td>18:52</td>\n",
       "    </tr>\n",
       "  </tbody>\n",
       "</table>"
      ],
      "text/plain": [
       "<IPython.core.display.HTML object>"
      ]
     },
     "metadata": {},
     "output_type": "display_data"
    },
    {
     "name": "stdout",
     "output_type": "stream",
     "text": [
      "Better model found at epoch 0 with dice_multi value: 0.7066651253316562.\n",
      "Better model found at epoch 1 with dice_multi value: 0.754600383534481.\n",
      "Better model found at epoch 2 with dice_multi value: 0.7829186815010148.\n",
      "Better model found at epoch 3 with dice_multi value: 0.8291857362809993.\n",
      "Better model found at epoch 4 with dice_multi value: 0.8325357926766155.\n"
     ]
    },
    {
     "data": {
      "text/plain": [
       "Path('models/covid19_last.pth')"
      ]
     },
     "execution_count": 37,
     "metadata": {},
     "output_type": "execute_result"
    }
   ],
   "source": [
    "criterion = torch.nn.CrossEntropyLoss()\n",
    "\n",
    "learn = unet_learner(dls,unet, \n",
    "                     metrics=[IoU,DiceMulti, JaccardCoeffMulti, Dice_background, Dice_GGO, Dice_Consolidation, Dice_Pleural_Effusion],\n",
    "                     n_out=output_size,\n",
    "                     n_in = 3,\n",
    "                     pretrained=True,\n",
    "                     cbs=[SaveModelCallback(monitor='dice_multi',comp=np.greater,fname=\"covid19-dice_multi_best\")]\n",
    "                    ).to_fp16()\n",
    "\n",
    "learn.fit_one_cycle(epochs,slice(learning_rate))\n",
    "learn.save(f'covid19_last')"
   ]
  },
  {
   "cell_type": "code",
   "execution_count": 38,
   "metadata": {},
   "outputs": [
    {
     "data": {
      "text/html": [],
      "text/plain": [
       "<IPython.core.display.HTML object>"
      ]
     },
     "metadata": {},
     "output_type": "display_data"
    },
    {
     "data": {
      "image/png": "[encoded data removed]",
      "text/plain": [
       "<Figure size 600x600 with 4 Axes>"
      ]
     },
     "metadata": {
      "needs_background": "light"
     },
     "output_type": "display_data"
    }
   ],
   "source": [
    "learn.show_results()"
   ]
  },
  {
   "cell_type": "code",
   "execution_count": 39,
   "metadata": {},
   "outputs": [],
   "source": [
    "learn.export('covid19_last.pkl')"
   ]
  },
  {
   "cell_type": "code",
   "execution_count": null,
   "metadata": {},
   "outputs": [],
   "source": [
    "trace_input = torch.ones(1, 3, 512, 512).cuda()\n",
    "jit_model = torch.jit.trace(learn.model, trace_input)\n",
    "torch.jit.save(jit_model, f'models/covid19_last_jit.pth')"
   ]
  }
 ],
 "metadata": {
  "kernelspec": {
   "display_name": "Python 3",
   "language": "python",
   "name": "python3"
  },
  "language_info": {
   "codemirror_mode": {
    "name": "ipython",
    "version": 3
   },
   "file_extension": ".py",
   "mimetype": "text/x-python",
   "name": "python",
   "nbconvert_exporter": "python",
   "pygments_lexer": "ipython3",
   "version": "3.8.6"
  }
 },
 "nbformat": 4,
 "nbformat_minor": 4
}
